{
  "nbformat": 4,
  "nbformat_minor": 0,
  "metadata": {
    "colab": {
      "provenance": [],
      "gpuType": "T4"
    },
    "kernelspec": {
      "name": "python3",
      "display_name": "Python 3"
    },
    "language_info": {
      "name": "python"
    },
    "accelerator": "GPU"
  },
  "cells": [
    {
      "cell_type": "code",
      "source": [
        "from keras.datasets import mnist                                                 #dataset of handwritten numbers\n",
        "from keras.models import Sequential                                              #chia du lieu o dang ma tran thanh vector\n",
        "from keras.utils import to_categorical                                           #chuyen cac gia tri dau vao thanh cac one-hot vector\n",
        "import keras\n",
        "from keras.layers import Dense, Activation                                       #chua cac ham kich hoat, mang noron"
      ],
      "metadata": {
        "id": "XKrgf65Am_CV"
      },
      "execution_count": 47,
      "outputs": []
    },
    {
      "cell_type": "code",
      "source": [
        "(xTrain,yTrain),(xTest,yTest)=mnist.load_data()                                  #lay du lieu train va test tu kho du lieu mnist"
      ],
      "metadata": {
        "id": "FP9hEOuppIAO"
      },
      "execution_count": 12,
      "outputs": []
    },
    {
      "cell_type": "code",
      "source": [
        "print(xTrain.shape)"
      ],
      "metadata": {
        "colab": {
          "base_uri": "https://localhost:8080/"
        },
        "id": "YfXON6lQryY2",
        "outputId": "a94589dc-a34c-4dcb-876c-77cd4bcc4db6"
      },
      "execution_count": 17,
      "outputs": [
        {
          "output_type": "stream",
          "name": "stdout",
          "text": [
            "(60000, 28, 28)\n"
          ]
        }
      ]
    },
    {
      "cell_type": "code",
      "source": [
        "xTrain=xTrain.reshape(60000,784)                                                 #chuyen tung buc anh tu 28x28 thanh 784x1"
      ],
      "metadata": {
        "id": "KYIdxvkdsCVV"
      },
      "execution_count": 18,
      "outputs": []
    },
    {
      "cell_type": "code",
      "source": [
        "print(xTrain.shape)"
      ],
      "metadata": {
        "colab": {
          "base_uri": "https://localhost:8080/"
        },
        "id": "Rtwry4oks4iH",
        "outputId": "ded0ffef-4b5c-4f98-afbb-178102063462"
      },
      "execution_count": 20,
      "outputs": [
        {
          "output_type": "stream",
          "name": "stdout",
          "text": [
            "(60000, 784)\n"
          ]
        }
      ]
    },
    {
      "cell_type": "code",
      "source": [
        "xTrain=xTrain.astype('float32')                                                  #chuyen cac gia tri pixel ve khoang tu 0->1\n",
        "xTrain/=255"
      ],
      "metadata": {
        "id": "Qf61yt28tSI9"
      },
      "execution_count": 22,
      "outputs": []
    },
    {
      "cell_type": "code",
      "source": [
        "nb_class=10                                                                      #quy dinh so lop cua mang\n",
        "yTrain=to_categorical(yTrain,nb_class)                                           #chuyen du lieu nhan thanh one-hot vector"
      ],
      "metadata": {
        "id": "3EJm-mNLtiVe"
      },
      "execution_count": 23,
      "outputs": []
    },
    {
      "cell_type": "code",
      "source": [
        "#Sequential là một cấu trúc dữ liệu trong Keras cho phép bạn xây dựng một mô hình nơ-ron dễ dàng bằng cách xếp chồng các layers.\n",
        "model=Sequential()                                                               #khai bao model"
      ],
      "metadata": {
        "id": "cVv7tkkawTcH"
      },
      "execution_count": 24,
      "outputs": []
    },
    {
      "cell_type": "code",
      "source": [
        "#lop dau tien\n",
        "#Dense là một loại layer trong mạng nơ-ron trong Keras và TensorFlow.\n",
        "model.add(Dense(10,input_shape=(784,)))                                          #them layer\n",
        "model.add(Activation('relu'))                                                    #them ham kich hoat"
      ],
      "metadata": {
        "id": "S6Ad2mEjyKoP"
      },
      "execution_count": 25,
      "outputs": []
    },
    {
      "cell_type": "code",
      "source": [
        "#lop thu 2\n",
        "model.add(Dense(20))\n",
        "model.add(Activation('relu'))"
      ],
      "metadata": {
        "id": "qTShy5_iyVZP"
      },
      "execution_count": 26,
      "outputs": []
    },
    {
      "cell_type": "code",
      "source": [
        "#lop cuoi\n",
        "model.add(Dense(10))                                                             #so node tai lop cuoi cung phai bang so dau ra (0->9 = 10)\n",
        "model.add(Activation('softmax'))                                                 #ham softmax giup chuyen doi gia tri dau ra thanh phan bo xac suat"
      ],
      "metadata": {
        "id": "yXTh0cxOzRX9"
      },
      "execution_count": 27,
      "outputs": []
    },
    {
      "cell_type": "code",
      "source": [
        "model.summary()"
      ],
      "metadata": {
        "colab": {
          "base_uri": "https://localhost:8080/"
        },
        "id": "LWARwdpM0D6n",
        "outputId": "18c8512a-75e7-49dc-dc0c-21e257742e69"
      },
      "execution_count": 30,
      "outputs": [
        {
          "output_type": "stream",
          "name": "stdout",
          "text": [
            "Model: \"sequential\"\n",
            "_________________________________________________________________\n",
            " Layer (type)                Output Shape              Param #   \n",
            "=================================================================\n",
            " dense (Dense)               (None, 10)                7850      \n",
            "                                                                 \n",
            " activation (Activation)     (None, 10)                0         \n",
            "                                                                 \n",
            " dense_1 (Dense)             (None, 20)                220       \n",
            "                                                                 \n",
            " activation_1 (Activation)   (None, 20)                0         \n",
            "                                                                 \n",
            " dense_2 (Dense)             (None, 10)                210       \n",
            "                                                                 \n",
            " activation_2 (Activation)   (None, 10)                0         \n",
            "                                                                 \n",
            "=================================================================\n",
            "Total params: 8280 (32.34 KB)\n",
            "Trainable params: 8280 (32.34 KB)\n",
            "Non-trainable params: 0 (0.00 Byte)\n",
            "_________________________________________________________________\n"
          ]
        }
      ]
    },
    {
      "cell_type": "code",
      "source": [
        "model.compile(loss='categorical_crossentropy',optimizer='rmsprop',metrics=['accuracy'])"
      ],
      "metadata": {
        "id": "3m6-Ad7y0NN_"
      },
      "execution_count": 35,
      "outputs": []
    },
    {
      "cell_type": "code",
      "source": [
        "model.fit(xTrain,yTrain,batch_size=128,epochs=5)"
      ],
      "metadata": {
        "colab": {
          "base_uri": "https://localhost:8080/"
        },
        "id": "04CiM0V11C1m",
        "outputId": "621de44b-431c-4319-9abd-18d8a493a962"
      },
      "execution_count": 36,
      "outputs": [
        {
          "output_type": "stream",
          "name": "stdout",
          "text": [
            "Epoch 1/5\n",
            "469/469 [==============================] - 3s 3ms/step - loss: 0.7378 - accuracy: 0.7891\n",
            "Epoch 2/5\n",
            "469/469 [==============================] - 1s 3ms/step - loss: 0.3128 - accuracy: 0.9093\n",
            "Epoch 3/5\n",
            "469/469 [==============================] - 2s 4ms/step - loss: 0.2689 - accuracy: 0.9227\n",
            "Epoch 4/5\n",
            "469/469 [==============================] - 2s 4ms/step - loss: 0.2488 - accuracy: 0.9285\n",
            "Epoch 5/5\n",
            "469/469 [==============================] - 1s 3ms/step - loss: 0.2369 - accuracy: 0.9320\n"
          ]
        },
        {
          "output_type": "execute_result",
          "data": {
            "text/plain": [
              "<keras.src.callbacks.History at 0x7f923b9b61a0>"
            ]
          },
          "metadata": {},
          "execution_count": 36
        }
      ]
    },
    {
      "cell_type": "code",
      "source": [
        "xTest=xTest.reshape(10000,784)\n",
        "xTest=xTest.astype('float32')\n",
        "xTest/=255\n"
      ],
      "metadata": {
        "id": "PYFF4Htk1ea2"
      },
      "execution_count": 41,
      "outputs": []
    },
    {
      "cell_type": "code",
      "source": [
        "yTest=to_categorical(yTest,nb_class)"
      ],
      "metadata": {
        "id": "HEmLrVhU16u-"
      },
      "execution_count": 42,
      "outputs": []
    },
    {
      "cell_type": "code",
      "source": [
        "model.predict(xTest)"
      ],
      "metadata": {
        "colab": {
          "base_uri": "https://localhost:8080/"
        },
        "id": "BDwlh-pD3hBo",
        "outputId": "1032e992-7b91-45a0-9f43-27f7a1847487"
      },
      "execution_count": 46,
      "outputs": [
        {
          "output_type": "stream",
          "name": "stdout",
          "text": [
            "313/313 [==============================] - 1s 2ms/step\n"
          ]
        },
        {
          "output_type": "execute_result",
          "data": {
            "text/plain": [
              "array([[9.7257674e-05, 9.9628457e-09, 3.1659310e-05, ..., 9.9916983e-01,\n",
              "        1.8427894e-06, 4.1134036e-04],\n",
              "       [7.3872181e-04, 4.3413670e-06, 9.9640083e-01, ..., 2.1725791e-10,\n",
              "        1.6335727e-03, 1.0256349e-11],\n",
              "       [4.0819279e-05, 9.8722166e-01, 3.7376750e-03, ..., 3.3342140e-03,\n",
              "        1.3660515e-03, 8.3032392e-05],\n",
              "       ...,\n",
              "       [2.0157266e-07, 9.5927615e-05, 1.8897881e-05, ..., 5.4924266e-04,\n",
              "        2.3466917e-03, 2.7702419e-02],\n",
              "       [1.2969417e-06, 1.0025279e-03, 6.6349099e-07, ..., 1.3198228e-08,\n",
              "        6.8885121e-03, 1.6753705e-06],\n",
              "       [4.0656378e-06, 1.8573122e-11, 1.4036452e-07, ..., 3.3013561e-11,\n",
              "        1.2661917e-09, 1.4208627e-11]], dtype=float32)"
            ]
          },
          "metadata": {},
          "execution_count": 46
        }
      ]
    }
  ]
}